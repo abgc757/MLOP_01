{
 "cells": [
  {
   "cell_type": "markdown",
   "metadata": {},
   "source": [
    "# FUNCIONES API"
   ]
  },
  {
   "cell_type": "code",
   "execution_count": 1,
   "metadata": {},
   "outputs": [],
   "source": [
    "import pandas as pd\n",
    "import json\n",
    "import numpy as np"
   ]
  },
  {
   "cell_type": "markdown",
   "metadata": {},
   "source": [
    "Función normalización de generos"
   ]
  },
  {
   "cell_type": "code",
   "execution_count": 2,
   "metadata": {},
   "outputs": [],
   "source": [
    "def get_genre(genre_input: str):\n",
    "    # Lista de géneros\n",
    "    genres = [\"Action\", \"Indie\", \"Adventure\", \"RPG\", \"Strategy\", \"Free to Play\", \n",
    "              \"Simulation\", \"Casual\", \"Massively Multiplayer\", \"Early Access\", \n",
    "              \"Sports\", \"Racing\", \"Utilities\", \"Design & Illustration\", \n",
    "              \"Animation & Modeling\", \"Video Production\", \"Web Publishing\", \n",
    "              \"Education\", \"Software Training\", \"Audio Production\", \"Photo Editing\"]\n",
    "\n",
    "    # Convierte el género de entrada y los géneros de la lista a minúsculas para la comparación\n",
    "    genre_input_lower = genre_input.lower()\n",
    "    genres_lower = [genre.lower() for genre in genres]\n",
    "\n",
    "    # Comprueba si el género de entrada está en la lista de géneros\n",
    "    if genre_input_lower in genres_lower:\n",
    "        # Si está en la lista, devuelve el género tal cual aparece en la lista original\n",
    "        return genres[genres_lower.index(genre_input_lower)]\n",
    "    else:\n",
    "        return None\n"
   ]
  },
  {
   "cell_type": "code",
   "execution_count": 3,
   "metadata": {},
   "outputs": [
    {
     "name": "stdout",
     "output_type": "stream",
     "text": [
      "Action\n",
      "RPG\n",
      "Free to Play\n",
      "None\n"
     ]
    }
   ],
   "source": [
    "# Prueba la función\n",
    "print(get_genre(\"ACTION\"))\n",
    "print(get_genre(\"RPG\"))\n",
    "print(get_genre(\"free to play\"))\n",
    "print(get_genre(\"unknown genre\"))"
   ]
  },
  {
   "cell_type": "markdown",
   "metadata": {},
   "source": [
    "## PlayTimeGenre( genero : str ): \n",
    "Debe devolver año con mas horas jugadas para dicho género.\n",
    "\n",
    "Ejemplo de retorno: {\"Año de lanzamiento con más horas jugadas para Género X\" : 2013}"
   ]
  },
  {
   "cell_type": "code",
   "execution_count": 4,
   "metadata": {},
   "outputs": [],
   "source": [
    "def PlayTimeGenre(genero : str):\n",
    "    genero = get_genre(genero)\n",
    "    if genero == None:\n",
    "        return {\"Error\": \"El género no existe\"}\n",
    "    else:\n",
    "        ranking_genre = pd.read_parquet('../dataset/ranking_genre.parquet')\n",
    "        filtro = ranking_genre[ranking_genre['genres'] == genero]\n",
    "        del ranking_genre\n",
    "        return {f\"Año de lanzamiento con más horas jugadas para Género {genero}\" : int(filtro['year'].iloc[0])}"
   ]
  },
  {
   "cell_type": "code",
   "execution_count": 5,
   "metadata": {},
   "outputs": [
    {
     "data": {
      "text/plain": [
       "{'Error': 'El género no existe'}"
      ]
     },
     "execution_count": 5,
     "metadata": {},
     "output_type": "execute_result"
    }
   ],
   "source": [
    "PlayTimeGenre('s')"
   ]
  },
  {
   "cell_type": "markdown",
   "metadata": {},
   "source": [
    "## def UserForGenre( genero : str ):\n",
    "Debe devolver el usuario que acumula más horas jugadas para el género dado y una lista de la acumulación de horas jugadas por año.\n",
    "\n",
    "Ejemplo de retorno: {\"Usuario con más horas jugadas para Género X\" : us213ndjss09sdf, \"Horas jugadas\":[{Año: 2013, Horas: 203}, {Año: 2012, Horas: 100}, {Año: 2011, Horas: 23}]}"
   ]
  },
  {
   "cell_type": "code",
   "execution_count": 6,
   "metadata": {},
   "outputs": [],
   "source": [
    "def UserForGenre(genero : str):\n",
    "    genero = get_genre(genero)\n",
    "    if genero == None:\n",
    "        return {\"Error\": \"El género no existe\"}\n",
    "    else:\n",
    "        usersXgenre = pd.read_parquet('../dataset/user_genre.parquet')\n",
    "        filtro = usersXgenre[usersXgenre['genres'] == genero]\n",
    "        filtro_usuario = filtro.groupby('user_id')['playtime_forever'].sum().sort_values(ascending=False)\n",
    "        resultado = filtro[filtro['user_id'] == filtro_usuario.index[0]].sort_values('year', ascending=False)\n",
    "        i = 0\n",
    "        lista = []\n",
    "        while i < len(resultado):\n",
    "            lista.append({f\"Año:{int(resultado['year'].iloc[i])}, Horas:{int(resultado['playtime_forever'].iloc[i])}\"})\n",
    "            i += 1\n",
    "        del usersXgenre\n",
    "        return {f\"Usuario con más horas jugadas para Género {resultado['genres'].iloc[0]}: {resultado['user_id'].iloc[0]},{lista}\"}"
   ]
  },
  {
   "cell_type": "code",
   "execution_count": 7,
   "metadata": {},
   "outputs": [
    {
     "data": {
      "text/plain": [
       "{'Error': 'El género no existe'}"
      ]
     },
     "execution_count": 7,
     "metadata": {},
     "output_type": "execute_result"
    }
   ],
   "source": [
    "UserForGenre('PG')"
   ]
  },
  {
   "cell_type": "markdown",
   "metadata": {},
   "source": [
    "## def UsersRecommend( año : int ): \n",
    "Devuelve el top 3 de juegos MÁS recomendados por usuarios para el año dado. (reviews.recommend = True y comentarios positivos/neutrales)\n",
    "\n",
    "Ejemplo de retorno: [{\"Puesto 1\" : X}, {\"Puesto 2\" : Y},{\"Puesto 3\" : Z}]"
   ]
  },
  {
   "cell_type": "code",
   "execution_count": 8,
   "metadata": {},
   "outputs": [],
   "source": [
    "def UsersRecommend(año : int):\n",
    "    recommend = pd.read_parquet('../dataset/recommend.parquet')\n",
    "    filtro = recommend[recommend['year'] == año].sort_values(by=['count'], ascending=False).head(3)\n",
    "    del recommend\n",
    "    if len(filtro) == 0:\n",
    "        return {f\"No hay juegos recomendados para el año {año}\"}\n",
    "    else:\n",
    "        i = 0\n",
    "        lista = []\n",
    "        while i < len(filtro):\n",
    "            lista.append({f\"Puesto {i+1}\" : filtro['title'].iloc[i]})\n",
    "            i += 1\n",
    "        return lista"
   ]
  },
  {
   "cell_type": "code",
   "execution_count": 9,
   "metadata": {},
   "outputs": [
    {
     "data": {
      "text/plain": [
       "[{'Puesto 1': 'Counter-Strike: Global Offensive'},\n",
       " {'Puesto 2': 'Team Fortress 2'},\n",
       " {'Puesto 3': \"Garry's Mod\"}]"
      ]
     },
     "execution_count": 9,
     "metadata": {},
     "output_type": "execute_result"
    }
   ],
   "source": [
    "UsersRecommend(2015)"
   ]
  },
  {
   "cell_type": "markdown",
   "metadata": {},
   "source": [
    "## def UsersNotRecommend( año : int ): \n",
    "Devuelve el top 3 de juegos MENOS recomendados por usuarios para el año dado. (reviews.recommend = False y comentarios negativos)\n",
    "\n",
    "Ejemplo de retorno: [{\"Puesto 1\" : X}, {\"Puesto 2\" : Y},{\"Puesto 3\" : Z}]"
   ]
  },
  {
   "cell_type": "code",
   "execution_count": 10,
   "metadata": {},
   "outputs": [],
   "source": [
    "def UsersNotRecommend( año : int ):\n",
    "    notrecommend = pd.read_parquet('../dataset/notrecommend.parquet')\n",
    "    filtro = notrecommend[notrecommend['year'] == año].sort_values(by=['year'], ascending=False).head(3)\n",
    "    del notrecommend\n",
    "    if len(filtro) == 0:\n",
    "        return {f\"No hay registros de juegos con peores recomendaciones para el año {año}\"}\n",
    "    else:\n",
    "        lista = []\n",
    "        for i in range(0,3):\n",
    "            lista.append({f\"Puesto {i+1}\" : filtro['title'].iloc[i]})\n",
    "        return lista"
   ]
  },
  {
   "cell_type": "code",
   "execution_count": 11,
   "metadata": {},
   "outputs": [
    {
     "data": {
      "text/plain": [
       "[{'Puesto 1': 'Amnesia: The Dark Descent'},\n",
       " {'Puesto 2': 'Empire: Total War™'},\n",
       " {'Puesto 3': 'Killing Floor'}]"
      ]
     },
     "execution_count": 11,
     "metadata": {},
     "output_type": "execute_result"
    }
   ],
   "source": [
    "UsersNotRecommend(2010)"
   ]
  },
  {
   "cell_type": "markdown",
   "metadata": {},
   "source": [
    "## def sentiment_analysis( año : int ):\n",
    "Según el año de lanzamiento, se devuelve una lista con la cantidad de registros de reseñas de usuarios que se encuentren categorizados con un análisis de sentimiento.\n",
    "\n",
    "Ejemplo de retorno: {Negative = 182, Neutral = 120, Positive = 278}"
   ]
  },
  {
   "cell_type": "code",
   "execution_count": 12,
   "metadata": {},
   "outputs": [],
   "source": [
    "def sentiment_analysis( año : int ):\n",
    "    sentiments  = pd.read_parquet('..\\dataset\\sentiments.parquet')\n",
    "    filtro = sentiments[sentiments['release_date'].dt.year == año]\n",
    "    filtro['sentiment_analysis'] = filtro['sentiment_analysis'].astype(int)\n",
    "    filtro['release_date'] = filtro['release_date'].astype('int64').astype('int32')\n",
    "    resumen = filtro.groupby(filtro['sentiment_analysis'])['release_date'].count().to_dict()\n",
    "    resultado = f\"Negative={resumen.get(0, 0)}, Neutral={resumen.get(1, 0)}, Positive={resumen.get(2, 0)}\"\n",
    "    del sentiments\n",
    "    return {resultado}"
   ]
  },
  {
   "cell_type": "code",
   "execution_count": 13,
   "metadata": {},
   "outputs": [
    {
     "name": "stderr",
     "output_type": "stream",
     "text": [
      "C:\\Users\\stdio\\AppData\\Local\\Temp\\ipykernel_14296\\1652367928.py:4: SettingWithCopyWarning: \n",
      "A value is trying to be set on a copy of a slice from a DataFrame.\n",
      "Try using .loc[row_indexer,col_indexer] = value instead\n",
      "\n",
      "See the caveats in the documentation: https://pandas.pydata.org/pandas-docs/stable/user_guide/indexing.html#returning-a-view-versus-a-copy\n",
      "  filtro['sentiment_analysis'] = filtro['sentiment_analysis'].astype(int)\n",
      "C:\\Users\\stdio\\AppData\\Local\\Temp\\ipykernel_14296\\1652367928.py:5: SettingWithCopyWarning: \n",
      "A value is trying to be set on a copy of a slice from a DataFrame.\n",
      "Try using .loc[row_indexer,col_indexer] = value instead\n",
      "\n",
      "See the caveats in the documentation: https://pandas.pydata.org/pandas-docs/stable/user_guide/indexing.html#returning-a-view-versus-a-copy\n",
      "  filtro['release_date'] = filtro['release_date'].astype('int64').astype('int32')\n"
     ]
    },
    {
     "data": {
      "text/plain": [
       "{'Negative=471, Neutral=721, Positive=2255'}"
      ]
     },
     "execution_count": 13,
     "metadata": {},
     "output_type": "execute_result"
    }
   ],
   "source": [
    "sentiment_analysis(2011)"
   ]
  },
  {
   "cell_type": "markdown",
   "metadata": {},
   "source": [
    "# Modelo de aprendizaje automático\n",
    "## def recomendacion_juego( id de producto ):\n",
    "Ingresando el id de producto, deberíamos recibir una lista con 5 juegos recomendados similares al ingresado."
   ]
  },
  {
   "cell_type": "code",
   "execution_count": 14,
   "metadata": {},
   "outputs": [],
   "source": [
    "#Funcion cosine_similarity\n",
    "def similarityCosine(vector1, vector2):\n",
    "    norm1 = np.linalg.norm(vector1)\n",
    "    norm2 = np.linalg.norm(vector2)\n",
    "    if norm1 == 0 or norm2 == 0:\n",
    "        return 0 \n",
    "    else:\n",
    "        return np.dot(vector1, vector2) / (norm1 * norm2)\n"
   ]
  },
  {
   "cell_type": "code",
   "execution_count": 15,
   "metadata": {},
   "outputs": [],
   "source": [
    "def recomendacion_juego(id : int):\n",
    "    reviews  = pd.read_parquet('../dataset/reviews_per_item.parquet')\n",
    "    filtro = reviews[reviews['id'] == id]\n",
    "    try:\n",
    "        fila1 = filtro.iloc[0]\n",
    "    except IndexError:\n",
    "        return {\"error\": \"No se encontraron datos para el ID del juego dado.\"}   \n",
    "    fila1 = filtro.iloc[0]\n",
    "    lista = []\n",
    "    i = 0\n",
    "    while i < len(reviews):\n",
    "        fila2 = reviews.iloc[i]\n",
    "        lista.append(similarityCosine(fila1,fila2))\n",
    "        i += 1\n",
    "    reviews['similarity_cosine'] = lista\n",
    "    recomendacion =reviews[['id','similarity_cosine']].sort_values(by=['similarity_cosine'], ascending=False).head(10)\n",
    "    del reviews\n",
    "    rec = []\n",
    "    j = 0\n",
    "    while j < 6:\n",
    "        if recomendacion['id'].iloc[j] != id:\n",
    "            rec.append(recomendacion['id'].iloc[j])\n",
    "        j+=1\n",
    "    return {f\"Los juegos recomendados para {id} son: {rec}\"}"
   ]
  },
  {
   "cell_type": "code",
   "execution_count": 16,
   "metadata": {},
   "outputs": [
    {
     "data": {
      "text/plain": [
       "{'error': 'No se encontraron datos para el ID del juego dado.'}"
      ]
     },
     "execution_count": 16,
     "metadata": {},
     "output_type": "execute_result"
    }
   ],
   "source": [
    "recomendacion_juego(0)"
   ]
  }
 ],
 "metadata": {
  "kernelspec": {
   "display_name": "Python 3",
   "language": "python",
   "name": "python3"
  },
  "language_info": {
   "codemirror_mode": {
    "name": "ipython",
    "version": 3
   },
   "file_extension": ".py",
   "mimetype": "text/x-python",
   "name": "python",
   "nbconvert_exporter": "python",
   "pygments_lexer": "ipython3",
   "version": "3.11.7"
  },
  "orig_nbformat": 4
 },
 "nbformat": 4,
 "nbformat_minor": 2
}
