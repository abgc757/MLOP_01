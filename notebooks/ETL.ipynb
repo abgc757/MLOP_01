{
 "cells": [
  {
   "cell_type": "markdown",
   "metadata": {},
   "source": [
    "# ETL"
   ]
  },
  {
   "cell_type": "code",
   "execution_count": 1,
   "metadata": {},
   "outputs": [],
   "source": [
    "import pandas as pd\n",
    "import json\n",
    "import re\n",
    "import ast\n",
    "import nltk\n",
    "from nltk.sentiment.vader import SentimentIntensityAnalyzer\n",
    "import matplotlib.pyplot as plt"
   ]
  },
  {
   "cell_type": "code",
   "execution_count": 2,
   "metadata": {},
   "outputs": [
    {
     "name": "stderr",
     "output_type": "stream",
     "text": [
      "[nltk_data] Downloading package vader_lexicon to\n",
      "[nltk_data]     C:\\Users\\stdio\\AppData\\Roaming\\nltk_data...\n",
      "[nltk_data]   Package vader_lexicon is already up-to-date!\n"
     ]
    },
    {
     "data": {
      "text/plain": [
       "True"
      ]
     },
     "execution_count": 2,
     "metadata": {},
     "output_type": "execute_result"
    }
   ],
   "source": [
    "nltk.download('vader_lexicon')"
   ]
  },
  {
   "cell_type": "markdown",
   "metadata": {},
   "source": [
    "#### Funciones"
   ]
  },
  {
   "cell_type": "code",
   "execution_count": 3,
   "metadata": {},
   "outputs": [],
   "source": [
    "def reemplazar_nan_con_none(cadena):\n",
    "    resultado = \"\"\n",
    "    indice = 0\n",
    "    longitud = len(cadena)\n",
    "\n",
    "    while indice < longitud:\n",
    "        if cadena[indice:indice+3] == \"NaN\":\n",
    "            resultado += \"\\\"NaN\\\"\"\n",
    "            indice += 3\n",
    "        else:\n",
    "            resultado += cadena[indice]\n",
    "            indice += 1\n",
    "\n",
    "    return resultado"
   ]
  },
  {
   "cell_type": "code",
   "execution_count": 4,
   "metadata": {},
   "outputs": [],
   "source": [
    "def corregir_comillas(cadena):\n",
    "    # Buscar comillas simples incorrectamente formateadas dentro de la cadena\n",
    "    partes = cadena.split('\"')\n",
    "    for i in range(1, len(partes), 2):\n",
    "        partes[i] = partes[i].replace(\"'\", '\"')\n",
    "    # Volver a unir las partes corregidas\n",
    "    cadena_corregida = '\"'.join(partes)\n",
    "    return cadena_corregida"
   ]
  },
  {
   "cell_type": "code",
   "execution_count": 5,
   "metadata": {},
   "outputs": [],
   "source": [
    "def extraer_valores(cadena):\n",
    "    valores = {}\n",
    "    \n",
    "    # Expresiones regulares para cada clave\n",
    "    patrones = {\n",
    "        'user_id': r'\"user_id\"\\s*:\\s*\"([^\"]+)\"',\n",
    "        'items_count': r'\"items_count\"\\s*:\\s*([^,]+)',\n",
    "        'steam_id': r'\"steam_id\"\\s*:\\s*\"([^\"]+)\"',\n",
    "        'user_url': r'\"user_url\"\\s*:\\s*\"([^\"]+)\"',\n",
    "        'items': r'\"items\"\\s*:\\s*\\{([^}]+)\\}'\n",
    "    }\n",
    "    \n",
    "    for clave, patron in patrones.items():\n",
    "        coincidencias = re.search(patron, cadena)\n",
    "        if coincidencias:\n",
    "            valores[clave] = coincidencias.group(1)\n",
    "    \n",
    "    return valores"
   ]
  },
  {
   "cell_type": "code",
   "execution_count": 6,
   "metadata": {},
   "outputs": [],
   "source": [
    "def procesar_diccionarios(items_parte):\n",
    "    # Utiliza una expresión regular para encontrar todas las coincidencias de los diccionarios dentro de corchetes.\n",
    "    diccionarios = re.findall(r'\\{[^}]+\\}', items_parte)\n",
    "\n",
    "    # Inicializa una lista para almacenar los diccionarios procesados.\n",
    "    resultado = []\n",
    "\n",
    "    # Define una función para procesar cada diccionario.\n",
    "    def procesar_diccionario(diccionario_str):\n",
    "        # Utiliza una expresión regular para extraer los valores de las claves deseadas.\n",
    "        item_id_match = re.search(r'\"item_id\": \"([^\"]+)\"', diccionario_str)\n",
    "        item_name_match = re.search(r'\"item_name\": \"([^\"]+)\"', diccionario_str)\n",
    "        playtime_forever_match = re.search(r'\"playtime_forever\": (\\d+)', diccionario_str)\n",
    "        playtime_2weeks_match = re.search(r'\"playtime_2weeks\": (\\d+)', diccionario_str)\n",
    "\n",
    "        # Verifica si se encontró una coincidencia para cada clave antes de extraer el valor.\n",
    "        item_id = item_id_match.group(1) if item_id_match else None\n",
    "        item_name = item_name_match.group(1) if item_name_match else None\n",
    "        playtime_forever = int(playtime_forever_match.group(1)) if playtime_forever_match else None\n",
    "        playtime_2weeks = int(playtime_2weeks_match.group(1)) if playtime_2weeks_match else None\n",
    "\n",
    "        # Crea un diccionario con los valores extraídos.\n",
    "        diccionario_resultado = {\n",
    "            \"item_id\": item_id,\n",
    "            \"item_name\": item_name,\n",
    "            \"playtime_forever\": playtime_forever,\n",
    "            \"playtime_2weeks\": playtime_2weeks\n",
    "        }\n",
    "\n",
    "        return diccionario_resultado\n",
    "\n",
    "    # Procesa cada diccionario encontrado y agrégalo a la lista de resultados.\n",
    "    for diccionario_str in diccionarios:\n",
    "        resultado.append(procesar_diccionario(diccionario_str))\n",
    "\n",
    "    # El resultado es una lista de diccionarios.\n",
    "    return resultado\n"
   ]
  },
  {
   "cell_type": "code",
   "execution_count": 7,
   "metadata": {},
   "outputs": [],
   "source": [
    "# Función para convertir fechas al formato \"YYYY-MM-DD\"\n",
    "def convertir_fecha(fecha):\n",
    "    # Utilizar expresión regular para extraer componentes de la fecha\n",
    "    match = re.match(r\"Posted (\\w+) (\\d+), (\\d+)\", fecha)\n",
    "    if match:\n",
    "        mes_str, dia_str, anio_str = match.groups()\n",
    "        # Mapear nombres de meses a números\n",
    "        meses = {\n",
    "            'January': '01', 'February': '02', 'March': '03', 'April': '04',\n",
    "            'May': '05', 'June': '06', 'July': '07', 'August': '08',\n",
    "            'September': '09', 'October': '10', 'November': '11', 'December': '12'\n",
    "        }\n",
    "        # Crear la fecha en el nuevo formato\n",
    "        nueva_fecha = f\"{anio_str}-{meses[mes_str]}-{dia_str.zfill(2)}\"\n",
    "        return nueva_fecha\n",
    "    else:\n",
    "        return None"
   ]
  },
  {
   "cell_type": "markdown",
   "metadata": {},
   "source": [
    "#### Cargar australian_user_reviews.json y convertirlo a parquet"
   ]
  },
  {
   "cell_type": "code",
   "execution_count": 8,
   "metadata": {},
   "outputs": [],
   "source": [
    "with open('../dataset/australian_user_reviews.json', 'r', encoding='utf-8') as file:\n",
    "    data_list = []\n",
    "    for linea in file:\n",
    "        linea = reemplazar_nan_con_none(linea)\n",
    "        data = ast.literal_eval(linea.strip())\n",
    "        if isinstance(data, dict):\n",
    "            data_list.append(data)\n",
    "    reviews = pd.DataFrame(data_list)"
   ]
  },
  {
   "cell_type": "code",
   "execution_count": 9,
   "metadata": {},
   "outputs": [
    {
     "name": "stdout",
     "output_type": "stream",
     "text": [
      "<class 'pandas.core.frame.DataFrame'>\n",
      "RangeIndex: 25799 entries, 0 to 25798\n",
      "Data columns (total 3 columns):\n",
      " #   Column    Non-Null Count  Dtype \n",
      "---  ------    --------------  ----- \n",
      " 0   user_id   25799 non-null  object\n",
      " 1   user_url  25799 non-null  object\n",
      " 2   reviews   25799 non-null  object\n",
      "dtypes: object(3)\n",
      "memory usage: 604.8+ KB\n"
     ]
    }
   ],
   "source": [
    "reviews.info()"
   ]
  },
  {
   "cell_type": "code",
   "execution_count": 10,
   "metadata": {},
   "outputs": [
    {
     "data": {
      "text/plain": [
       "user_id\n",
       "76561198027488037    3\n",
       "76561198045953692    3\n",
       "76561198051777058    3\n",
       "76561198100326818    3\n",
       "blablabla174         3\n",
       "                    ..\n",
       "SakurasouNo          1\n",
       "goneckahorse         1\n",
       "coutlindo            1\n",
       "superdedicated       1\n",
       "LydiaMorley          1\n",
       "Name: count, Length: 25485, dtype: int64"
      ]
     },
     "execution_count": 10,
     "metadata": {},
     "output_type": "execute_result"
    }
   ],
   "source": [
    "reviews['user_id'].value_counts() #Validar duplicados"
   ]
  },
  {
   "cell_type": "code",
   "execution_count": 11,
   "metadata": {},
   "outputs": [],
   "source": [
    "reviews = reviews.drop_duplicates(subset=['user_id']) #Eliminar duplicados"
   ]
  },
  {
   "cell_type": "markdown",
   "metadata": {},
   "source": [
    "Función analisis de sentimiento"
   ]
  },
  {
   "cell_type": "code",
   "execution_count": 12,
   "metadata": {},
   "outputs": [],
   "source": [
    "sia = SentimentIntensityAnalyzer()\n",
    "def analyze_sentiment(lista):\n",
    "    nlist =[]\n",
    "    for i in lista:\n",
    "        sentiment = sia.polarity_scores(i['review'])    \n",
    "        try:               \n",
    "            if sentiment['compound'] >= 0.05:\n",
    "                i['sentiment_analysis'] = 2  # Positivo\n",
    "                del i['review']\n",
    "            elif sentiment['compound'] <= -0.05:\n",
    "                i['sentiment_analysis'] = 0  # Malo\n",
    "                del i['review']\n",
    "            else:\n",
    "                i['sentiment_analysis'] = 1  # Neutral\n",
    "                del i['review']\n",
    "        except:\n",
    "            i['sentiment_analysis'] = 1\n",
    "            del i['review']\n",
    "        nlist.append(i)\n",
    "    return nlist"
   ]
  },
  {
   "cell_type": "code",
   "execution_count": 13,
   "metadata": {},
   "outputs": [],
   "source": [
    "reviews['reviews'] = reviews['reviews'].apply(lambda x: analyze_sentiment(x))   # Aplicando NLP"
   ]
  },
  {
   "cell_type": "code",
   "execution_count": 14,
   "metadata": {},
   "outputs": [],
   "source": [
    "def desanidar_reviews(df):\n",
    "    i = 0\n",
    "    data_list = []\n",
    "    while i <= len(df['user_id']) -1:\n",
    "        user_id = df['user_id'].iloc[i]\n",
    "        user_url = df['user_url'].iloc[i]\n",
    "        lista = df['reviews'].iloc[i]\n",
    "        for j in lista:\n",
    "            j['user_id'] = user_id\n",
    "            j['user_url'] = user_url\n",
    "            data_list.append(j)\n",
    "        i = i + 1\n",
    "    return data_list"
   ]
  },
  {
   "cell_type": "code",
   "execution_count": 15,
   "metadata": {},
   "outputs": [],
   "source": [
    "n_reviews = pd.DataFrame(desanidar_reviews(reviews))"
   ]
  },
  {
   "cell_type": "code",
   "execution_count": 16,
   "metadata": {},
   "outputs": [],
   "source": [
    "# Aplicar la función de conversión a la columna y crear una nueva columna con las fechas reformateadas\n",
    "n_reviews['posted_date'] = n_reviews['posted'].apply(convertir_fecha)\n",
    "n_reviews['posted_date'] = pd.to_datetime(n_reviews['posted_date'])"
   ]
  },
  {
   "cell_type": "code",
   "execution_count": 17,
   "metadata": {},
   "outputs": [
    {
     "data": {
      "text/plain": [
       "count                            48498\n",
       "mean     2014-09-07 21:14:04.884325120\n",
       "min                2010-10-16 00:00:00\n",
       "25%                2014-02-19 00:00:00\n",
       "50%                2014-09-09 00:00:00\n",
       "75%                2015-05-02 00:00:00\n",
       "max                2015-12-31 00:00:00\n",
       "Name: posted_date, dtype: object"
      ]
     },
     "execution_count": 17,
     "metadata": {},
     "output_type": "execute_result"
    }
   ],
   "source": [
    "n_reviews['posted_date'].describe()"
   ]
  },
  {
   "cell_type": "markdown",
   "metadata": {},
   "source": [
    "Guarda DF en archivo parquet"
   ]
  },
  {
   "cell_type": "code",
   "execution_count": 18,
   "metadata": {},
   "outputs": [],
   "source": [
    "n_reviews.to_parquet('../dataset/australian_user_reviews.parquet', engine='pyarrow', compression='snappy')"
   ]
  },
  {
   "cell_type": "markdown",
   "metadata": {},
   "source": [
    "#### Cargar output_steam_games.json y convertirlo a parquet"
   ]
  },
  {
   "cell_type": "code",
   "execution_count": 19,
   "metadata": {},
   "outputs": [],
   "source": [
    "with open('../dataset/output_steam_games.json', 'r', encoding='utf-8') as file:\n",
    "    data_list = []\n",
    "    for linea in file:\n",
    "        linea = linea.replace('\"NaN\"', '')\n",
    "        data = json.loads(linea.strip())\n",
    "        if isinstance(data, dict):\n",
    "            data_list.append(data)\n",
    "    games = pd.DataFrame(data_list)\n",
    "    games['price'] = games['price'].replace('Free To Play', 0)\n",
    "    games['price'] = pd.to_numeric(games['price'], errors='coerce')\n",
    "    games['metascore'] = pd.to_numeric(games['metascore'], errors='coerce')"
   ]
  },
  {
   "cell_type": "code",
   "execution_count": 20,
   "metadata": {},
   "outputs": [
    {
     "name": "stdout",
     "output_type": "stream",
     "text": [
      "<class 'pandas.core.frame.DataFrame'>\n",
      "RangeIndex: 120445 entries, 0 to 120444\n",
      "Data columns (total 19 columns):\n",
      " #   Column          Non-Null Count  Dtype  \n",
      "---  ------          --------------  -----  \n",
      " 0   publisher       24083 non-null  object \n",
      " 1   genres          28852 non-null  object \n",
      " 2   app_name        32133 non-null  object \n",
      " 3   title           30085 non-null  object \n",
      " 4   url             32135 non-null  object \n",
      " 5   release_date    30068 non-null  object \n",
      " 6   tags            31972 non-null  object \n",
      " 7   reviews_url     32133 non-null  object \n",
      " 8   discount_price  225 non-null    float64\n",
      " 9   specs           31465 non-null  object \n",
      " 10  price           29310 non-null  float64\n",
      " 11  early_access    32135 non-null  object \n",
      " 12  id              32133 non-null  object \n",
      " 13  metascore       2607 non-null   float64\n",
      " 14  developer       28836 non-null  object \n",
      " 15  user_id         88310 non-null  object \n",
      " 16  steam_id        88310 non-null  object \n",
      " 17  items           88310 non-null  object \n",
      " 18  items_count     88310 non-null  float64\n",
      "dtypes: float64(4), object(15)\n",
      "memory usage: 17.5+ MB\n"
     ]
    }
   ],
   "source": [
    "games.info()"
   ]
  },
  {
   "cell_type": "code",
   "execution_count": 21,
   "metadata": {},
   "outputs": [
    {
     "data": {
      "text/plain": [
       "id\n",
       "612880    2\n",
       "761140    1\n",
       "530200    1\n",
       "518690    1\n",
       "513460    1\n",
       "         ..\n",
       "676060    1\n",
       "494160    1\n",
       "215280    1\n",
       "667090    1\n",
       "681550    1\n",
       "Name: count, Length: 32132, dtype: int64"
      ]
     },
     "execution_count": 21,
     "metadata": {},
     "output_type": "execute_result"
    }
   ],
   "source": [
    "games['id'].value_counts()         # Validando registros duplicados"
   ]
  },
  {
   "cell_type": "code",
   "execution_count": 22,
   "metadata": {},
   "outputs": [],
   "source": [
    "games = games.drop_duplicates(subset=['id'])"
   ]
  },
  {
   "cell_type": "code",
   "execution_count": 23,
   "metadata": {},
   "outputs": [],
   "source": [
    "# Inputar cero a valores nulos de las columnas 'price' y 'discount_price'\n",
    "games[['price','discount_price']] = games[['price','discount_price']].fillna(0) "
   ]
  },
  {
   "cell_type": "code",
   "execution_count": 24,
   "metadata": {},
   "outputs": [],
   "source": [
    "# Eliminar nulos para aquellos registros que tengan regitros nulo en las columnas 'title', 'app_name' e 'id\n",
    "games = games.dropna(subset=['title', 'app_name','id'], how='all')"
   ]
  },
  {
   "cell_type": "markdown",
   "metadata": {},
   "source": [
    "Guardar output_steam_games.parquet"
   ]
  },
  {
   "cell_type": "code",
   "execution_count": 25,
   "metadata": {},
   "outputs": [],
   "source": [
    "games.to_parquet('../dataset/output_steam_games.parquet', engine='pyarrow', compression='snappy')"
   ]
  },
  {
   "cell_type": "markdown",
   "metadata": {},
   "source": [
    "### Cargar australian_users_items.json y convertirlo a parquet"
   ]
  },
  {
   "cell_type": "code",
   "execution_count": 26,
   "metadata": {},
   "outputs": [],
   "source": [
    "items = pd.DataFrame(columns=['user_id', 'items_count','steam_id','user_url','items'])\n",
    "with open('../dataset/australian_users_items.json', 'r', encoding='utf-8') as file:\n",
    "    data_list = []\n",
    "    for linea in file:\n",
    "        linea = linea.replace('\"NaN\"', '')\n",
    "        linea = linea.replace('\\'', '\\\"')\n",
    "        resultado = re.search(r'\"items\":\\s*(.+)', linea)\n",
    "        linea = extraer_valores(linea)\n",
    "        items_parte = resultado.group(1)\n",
    "        items_parte = procesar_diccionarios(items_parte)\n",
    "        linea['items'] = items_parte \n",
    "        data_list.append(linea)\n",
    "\n",
    "items = pd.DataFrame(data_list)"
   ]
  },
  {
   "cell_type": "code",
   "execution_count": 27,
   "metadata": {},
   "outputs": [
    {
     "name": "stdout",
     "output_type": "stream",
     "text": [
      "<class 'pandas.core.frame.DataFrame'>\n",
      "RangeIndex: 88310 entries, 0 to 88309\n",
      "Data columns (total 5 columns):\n",
      " #   Column       Non-Null Count  Dtype \n",
      "---  ------       --------------  ----- \n",
      " 0   user_id      88310 non-null  object\n",
      " 1   items_count  88310 non-null  object\n",
      " 2   steam_id     88310 non-null  object\n",
      " 3   user_url     88310 non-null  object\n",
      " 4   items        88310 non-null  object\n",
      "dtypes: object(5)\n",
      "memory usage: 3.4+ MB\n"
     ]
    }
   ],
   "source": [
    "items.info()"
   ]
  },
  {
   "cell_type": "code",
   "execution_count": 28,
   "metadata": {},
   "outputs": [
    {
     "data": {
      "text/plain": [
       "user_id\n",
       "X03-Suits            3\n",
       "76561198027488037    3\n",
       "76561198100326818    3\n",
       "76561198309337430    3\n",
       "76561198051777058    3\n",
       "                    ..\n",
       "8392158              1\n",
       "76561198056804863    1\n",
       "SparklezTheTurtle    1\n",
       "76561198019707497    1\n",
       "edward_tremethick    1\n",
       "Name: count, Length: 87626, dtype: int64"
      ]
     },
     "execution_count": 28,
     "metadata": {},
     "output_type": "execute_result"
    }
   ],
   "source": [
    "items['user_id'].value_counts()         #Validando registros duplicados"
   ]
  },
  {
   "cell_type": "code",
   "execution_count": 29,
   "metadata": {},
   "outputs": [],
   "source": [
    "items = items.drop_duplicates(subset=['user_id'])       # Eliminar duplicados"
   ]
  },
  {
   "cell_type": "code",
   "execution_count": 30,
   "metadata": {},
   "outputs": [
    {
     "data": {
      "text/plain": [
       "user_id                                        76561197970982479\n",
       "items_count                                                  277\n",
       "steam_id                                       76561197970982479\n",
       "user_url       http://steamcommunity.com/profiles/76561197970...\n",
       "items          [{'item_id': '10', 'item_name': 'Counter-Strik...\n",
       "Name: 0, dtype: object"
      ]
     },
     "execution_count": 30,
     "metadata": {},
     "output_type": "execute_result"
    }
   ],
   "source": [
    "items.iloc[0]"
   ]
  },
  {
   "cell_type": "code",
   "execution_count": 31,
   "metadata": {},
   "outputs": [],
   "source": [
    "def desanidar_items(df):\n",
    "    i = 0\n",
    "    data_list = []\n",
    "    while i <= len(df['user_id']) - 1:\n",
    "        user_id = df['user_id'].iloc[i]\n",
    "        steam_id = df['steam_id'].iloc[i]\n",
    "        user_url = df['user_url'].iloc[i]\n",
    "        lista = df['items'].iloc[i]\n",
    "        for j in lista:\n",
    "            j['user_id'] = user_id\n",
    "            j['steam_id'] = steam_id\n",
    "            j['user_url'] = user_url\n",
    "            data_list.append(j)\n",
    "        i = i + 1\n",
    "    return data_list"
   ]
  },
  {
   "cell_type": "code",
   "execution_count": 32,
   "metadata": {},
   "outputs": [],
   "source": [
    "n_items = pd.DataFrame(desanidar_items(items))"
   ]
  },
  {
   "cell_type": "code",
   "execution_count": 33,
   "metadata": {},
   "outputs": [
    {
     "name": "stdout",
     "output_type": "stream",
     "text": [
      "<class 'pandas.core.frame.DataFrame'>\n",
      "RangeIndex: 5094082 entries, 0 to 5094081\n",
      "Data columns (total 7 columns):\n",
      " #   Column            Dtype \n",
      "---  ------            ----- \n",
      " 0   item_id           object\n",
      " 1   item_name         object\n",
      " 2   playtime_forever  int64 \n",
      " 3   playtime_2weeks   int64 \n",
      " 4   user_id           object\n",
      " 5   steam_id          object\n",
      " 6   user_url          object\n",
      "dtypes: int64(2), object(5)\n",
      "memory usage: 272.1+ MB\n"
     ]
    }
   ],
   "source": [
    "n_items.info()"
   ]
  },
  {
   "cell_type": "markdown",
   "metadata": {},
   "source": [
    "Guardar australian_users_items.parquet"
   ]
  },
  {
   "cell_type": "code",
   "execution_count": 34,
   "metadata": {},
   "outputs": [],
   "source": [
    "n_items.to_parquet('../dataset/australian_users_items.parquet', engine='pyarrow', compression='snappy')"
   ]
  },
  {
   "cell_type": "markdown",
   "metadata": {},
   "source": [
    "# API"
   ]
  },
  {
   "cell_type": "code",
   "execution_count": 1,
   "metadata": {},
   "outputs": [],
   "source": [
    "import pandas as pd\n",
    "import json"
   ]
  },
  {
   "cell_type": "markdown",
   "metadata": {},
   "source": [
    "Cargar dataframes desde el directorio datasets"
   ]
  },
  {
   "cell_type": "code",
   "execution_count": 2,
   "metadata": {},
   "outputs": [],
   "source": [
    "reviews  = pd.read_parquet('../dataset/australian_user_reviews.parquet')\n",
    "items =  pd.read_parquet('../dataset/australian_users_items.parquet')\n",
    "games =  pd.read_parquet('../dataset/output_steam_games.parquet')\n",
    "ranking_genre = pd.read_parquet('../dataset/ranking_genre.parquet')\n",
    "usersXgenre = pd.read_parquet('../dataset/user_genre.parquet')"
   ]
  },
  {
   "cell_type": "markdown",
   "metadata": {},
   "source": [
    "- def userdata( User_id : str ): Debe devolver cantidad de dinero gastado por el usuario, el porcentaje de recomendación en base a reviews.recommend y cantidad de items."
   ]
  },
  {
   "cell_type": "code",
   "execution_count": 37,
   "metadata": {},
   "outputs": [],
   "source": [
    "def userdata(User_id:str):\n",
    "    Consumo = 0\n",
    "    user_data = reviews[reviews['user_id'] == User_id]\n",
    "    item_count = user_data['user_id'].count()\n",
    "    for i in user_data['item_id']:\n",
    "        filtro = games[games['id'] == i]\n",
    "        precio = filtro.iloc[0]['price'] - filtro.iloc[0]['discount_price']\n",
    "        Consumo = Consumo + precio\n",
    "    recomemdaciones = reviews[reviews['user_id'] == User_id]\n",
    "    cierto = recomemdaciones[recomemdaciones['recommend'] == True].count()\n",
    "    porcentaje = cierto[0]  / item_count\n",
    "    return {\"Consumo del usuario\": Consumo, \"% de recomendación\": porcentaje * 100, \"Cantidad de items\": item_count}"
   ]
  },
  {
   "cell_type": "code",
   "execution_count": 38,
   "metadata": {},
   "outputs": [
    {
     "data": {
      "text/plain": [
       "{'Consumo del usuario': 54.96,\n",
       " '% de recomendación': 80.0,\n",
       " 'Cantidad de items': 5}"
      ]
     },
     "execution_count": 38,
     "metadata": {},
     "output_type": "execute_result"
    }
   ],
   "source": [
    "userdata('kimjongadam')"
   ]
  },
  {
   "cell_type": "markdown",
   "metadata": {},
   "source": [
    "- def countreviews( YYYY-MM-DD y YYYY-MM-DD : str ): Cantidad de usuarios que realizaron reviews entre las fechas dadas y, el porcentaje de recomendación de los mismos en base a reviews.recommend."
   ]
  },
  {
   "cell_type": "code",
   "execution_count": 39,
   "metadata": {},
   "outputs": [],
   "source": [
    "def countreviews(fecha1:str,fecha2:str):\n",
    "    if fecha1 > fecha2:\n",
    "        return {\"Error\":\"Ingrese correctamente las fechas\"}\n",
    "    else:\n",
    "        filtro = reviews[(reviews['posted_date'] >= fecha1) & (reviews['posted_date'] <= fecha2) ]\n",
    "        cierto = filtro[filtro['recommend'] == True].count()\n",
    "        Tot_rev = filtro['recommend'].count()\n",
    "        porcentaje = cierto['recommend'] / Tot_rev\n",
    "    resultado = {\"Cantidad de Reviews\": int(filtro['recommend'].count()), \"% de recomendaciones\": round(float(porcentaje),2) * 100}\n",
    "    return json.dumps(resultado)"
   ]
  },
  {
   "cell_type": "code",
   "execution_count": 40,
   "metadata": {},
   "outputs": [
    {
     "data": {
      "text/plain": [
       "'{\"Cantidad de Reviews\": 53, \"% de recomendaciones\": 98.0}'"
      ]
     },
     "execution_count": 40,
     "metadata": {},
     "output_type": "execute_result"
    }
   ],
   "source": [
    "countreviews('2010-10-15','2010-12-20')"
   ]
  },
  {
   "cell_type": "markdown",
   "metadata": {},
   "source": [
    "- def genre( género : str ): Devuelve el puesto en el que se encuentra un género sobre el ranking de los mismos analizado bajo la columna PlayTimeForever."
   ]
  },
  {
   "cell_type": "markdown",
   "metadata": {},
   "source": [
    "Generar ranking_genre.parquet"
   ]
  },
  {
   "cell_type": "code",
   "execution_count": 3,
   "metadata": {},
   "outputs": [],
   "source": [
    "# No ejecutar esta celda en render ya que se consume alrededor de 2 Gb de memoria y la versión gratis tiene solo 512 Mb\n",
    "# Separar lista de generos\n",
    "games_exploded = games.explode('genres')\n",
    "# Combinar DF's games_explode con items coincidiendo por id    \n",
    "merged_data = games_exploded.merge(items, left_on='id', right_on='item_id', how='inner')\n",
    "# Sumar playtime_forever por género, este dataframe supera el gigabyte de memoria, por ello es necesario almacenar el df ranking_genre\n",
    "genre_playtime = merged_data.groupby('genres')['playtime_forever'].sum().reset_index()\n",
    "# Ordenar de mayor a menor sobre 'playtime_forever'\n",
    "ranking_genre = genre_playtime.sort_values(by='playtime_forever', ascending=False)\n",
    "ranking_genre = ranking_genre.reset_index(drop=True)\n",
    "# Guardar df en formato parquet\n",
    "ranking_genre.to_parquet('../dataset/ranking_genre.parquet', engine='pyarrow', compression='snappy')"
   ]
  },
  {
   "cell_type": "code",
   "execution_count": 4,
   "metadata": {},
   "outputs": [],
   "source": [
    "\n",
    "def genre(genero:str):\n",
    "    return {\"Puesto numero:\": ranking_genre[ranking_genre['genres'] == genero].index[0] + 1 }"
   ]
  },
  {
   "cell_type": "code",
   "execution_count": 5,
   "metadata": {},
   "outputs": [
    {
     "data": {
      "text/plain": [
       "{'Puesto numero:': 21}"
      ]
     },
     "execution_count": 5,
     "metadata": {},
     "output_type": "execute_result"
    }
   ],
   "source": [
    "genre('Photo Editing')"
   ]
  },
  {
   "cell_type": "markdown",
   "metadata": {},
   "source": [
    "- def userforgenre( género : str ): Top 5 de usuarios con más horas de juego en el género dado, con su URL (del user) y user_id."
   ]
  },
  {
   "cell_type": "code",
   "execution_count": 6,
   "metadata": {},
   "outputs": [],
   "source": [
    "# Crear df user_genre.parquet\n",
    "\n",
    "# Creando df con las columnas 'genres', 'playtime_forever' y 'user_id_y'\n",
    "usersXgenre = merged_data[['genres','playtime_forever','user_id_y','user_url']]\n",
    "# Agrupando por usuario y genero\n",
    "usersXgenre = usersXgenre.groupby(['genres','user_id_y','user_url'])['playtime_forever'].sum().reset_index()\n",
    "# Guardar df en formato parquet\n",
    "usersXgenre.to_parquet('../dataset/user_genre.parquet', engine='pyarrow', compression='snappy')"
   ]
  },
  {
   "cell_type": "code",
   "execution_count": 8,
   "metadata": {},
   "outputs": [],
   "source": [
    "def userforgenre(genero:str):\n",
    "    filtro = usersXgenre[usersXgenre['genres'] == genero].sort_values(by='playtime_forever', ascending=False).head(5)\n",
    "    lista = []\n",
    "    j = 0\n",
    "    for i in filtro['user_id_y']:\n",
    "        filtro2 = filtro[filtro['user_id_y'] == i]\n",
    "        res = {\"Posicion\": j + 1, \"Usuario_Id\":i,\"Url_Usuario\":filtro2['user_url'].iloc[0]}\n",
    "        lista.append(res)\n",
    "        j = j + 1\n",
    "    return lista"
   ]
  },
  {
   "cell_type": "code",
   "execution_count": 9,
   "metadata": {},
   "outputs": [
    {
     "data": {
      "text/plain": [
       "[{'Posicion': 1,\n",
       "  'Usuario_Id': 'shinomegami',\n",
       "  'Url_Usuario': 'http://steamcommunity.com/id/shinomegami'},\n",
       " {'Posicion': 2,\n",
       "  'Usuario_Id': 'tobscene',\n",
       "  'Url_Usuario': 'http://steamcommunity.com/id/tobscene'},\n",
       " {'Posicion': 3,\n",
       "  'Usuario_Id': 'REBAS_AS_F-T',\n",
       "  'Url_Usuario': 'http://steamcommunity.com/id/REBAS_AS_F-T'},\n",
       " {'Posicion': 4,\n",
       "  'Usuario_Id': 'Evilutional',\n",
       "  'Url_Usuario': 'http://steamcommunity.com/id/Evilutional'},\n",
       " {'Posicion': 5,\n",
       "  'Usuario_Id': 'triggernyar',\n",
       "  'Url_Usuario': 'http://steamcommunity.com/id/triggernyar'}]"
      ]
     },
     "execution_count": 9,
     "metadata": {},
     "output_type": "execute_result"
    }
   ],
   "source": [
    "userforgenre('RPG')"
   ]
  },
  {
   "cell_type": "code",
   "execution_count": 10,
   "metadata": {},
   "outputs": [
    {
     "data": {
      "text/html": [
       "<div>\n",
       "<style scoped>\n",
       "    .dataframe tbody tr th:only-of-type {\n",
       "        vertical-align: middle;\n",
       "    }\n",
       "\n",
       "    .dataframe tbody tr th {\n",
       "        vertical-align: top;\n",
       "    }\n",
       "\n",
       "    .dataframe thead th {\n",
       "        text-align: right;\n",
       "    }\n",
       "</style>\n",
       "<table border=\"1\" class=\"dataframe\">\n",
       "  <thead>\n",
       "    <tr style=\"text-align: right;\">\n",
       "      <th></th>\n",
       "      <th>genres</th>\n",
       "      <th>user_id_y</th>\n",
       "      <th>user_url</th>\n",
       "      <th>playtime_forever</th>\n",
       "    </tr>\n",
       "  </thead>\n",
       "  <tbody>\n",
       "    <tr>\n",
       "      <th>474083</th>\n",
       "      <td>RPG</td>\n",
       "      <td>shinomegami</td>\n",
       "      <td>http://steamcommunity.com/id/shinomegami</td>\n",
       "      <td>1060592</td>\n",
       "    </tr>\n",
       "    <tr>\n",
       "      <th>475670</th>\n",
       "      <td>RPG</td>\n",
       "      <td>tobscene</td>\n",
       "      <td>http://steamcommunity.com/id/tobscene</td>\n",
       "      <td>906936</td>\n",
       "    </tr>\n",
       "    <tr>\n",
       "      <th>460076</th>\n",
       "      <td>RPG</td>\n",
       "      <td>REBAS_AS_F-T</td>\n",
       "      <td>http://steamcommunity.com/id/REBAS_AS_F-T</td>\n",
       "      <td>886204</td>\n",
       "    </tr>\n",
       "    <tr>\n",
       "      <th>455455</th>\n",
       "      <td>RPG</td>\n",
       "      <td>Evilutional</td>\n",
       "      <td>http://steamcommunity.com/id/Evilutional</td>\n",
       "      <td>680646</td>\n",
       "    </tr>\n",
       "    <tr>\n",
       "      <th>475815</th>\n",
       "      <td>RPG</td>\n",
       "      <td>triggernyar</td>\n",
       "      <td>http://steamcommunity.com/id/triggernyar</td>\n",
       "      <td>608768</td>\n",
       "    </tr>\n",
       "  </tbody>\n",
       "</table>\n",
       "</div>"
      ],
      "text/plain": [
       "       genres     user_id_y                                   user_url  \\\n",
       "474083    RPG   shinomegami   http://steamcommunity.com/id/shinomegami   \n",
       "475670    RPG      tobscene      http://steamcommunity.com/id/tobscene   \n",
       "460076    RPG  REBAS_AS_F-T  http://steamcommunity.com/id/REBAS_AS_F-T   \n",
       "455455    RPG   Evilutional   http://steamcommunity.com/id/Evilutional   \n",
       "475815    RPG   triggernyar   http://steamcommunity.com/id/triggernyar   \n",
       "\n",
       "        playtime_forever  \n",
       "474083           1060592  \n",
       "475670            906936  \n",
       "460076            886204  \n",
       "455455            680646  \n",
       "475815            608768  "
      ]
     },
     "execution_count": 10,
     "metadata": {},
     "output_type": "execute_result"
    }
   ],
   "source": [
    "usersXgenre[usersXgenre['genres'] == 'RPG'].sort_values(by='playtime_forever', ascending=False).head(5)"
   ]
  },
  {
   "cell_type": "markdown",
   "metadata": {},
   "source": [
    "\n",
    "- def developer( desarrollador : str ): Cantidad de items y porcentaje de contenido Free por año según empresa desarrolladora. Ejemplo de salida:\n",
    "\n",
    "|Activision | |\n",
    "|:-------:|:----------:|\t\n",
    "| Año | Contenido Free |\n",
    "| 2023 |\t27% |\n",
    "| 2022 |\t25% |\n",
    "| xxxx |\txx% |"
   ]
  },
  {
   "cell_type": "code",
   "execution_count": null,
   "metadata": {},
   "outputs": [],
   "source": []
  },
  {
   "cell_type": "markdown",
   "metadata": {},
   "source": [
    "- def sentiment_analysis( año : int ): Según el año de lanzamiento, se devuelve una lista con la cantidad de registros de reseñas de usuarios que se encuentren categorizados con un análisis de sentimiento.\n",
    "\n",
    "--Ejemplo de retorno: {Negative = 182, Neutral = 120, Positive = 278}"
   ]
  },
  {
   "cell_type": "code",
   "execution_count": null,
   "metadata": {},
   "outputs": [],
   "source": []
  }
 ],
 "metadata": {
  "kernelspec": {
   "display_name": "Python 3",
   "language": "python",
   "name": "python3"
  },
  "language_info": {
   "codemirror_mode": {
    "name": "ipython",
    "version": 3
   },
   "file_extension": ".py",
   "mimetype": "text/x-python",
   "name": "python",
   "nbconvert_exporter": "python",
   "pygments_lexer": "ipython3",
   "version": "3.11.5"
  },
  "orig_nbformat": 4
 },
 "nbformat": 4,
 "nbformat_minor": 2
}
